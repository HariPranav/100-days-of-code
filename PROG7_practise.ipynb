{
  "nbformat": 4,
  "nbformat_minor": 0,
  "metadata": {
    "colab": {
      "name": "PROG7_practise.ipynb",
      "provenance": [],
      "authorship_tag": "ABX9TyP/Ja8OMTpYwgmt2raX+sLi",
      "include_colab_link": true
    },
    "kernelspec": {
      "name": "python3",
      "display_name": "Python 3"
    }
  },
  "cells": [
    {
      "cell_type": "markdown",
      "metadata": {
        "id": "view-in-github",
        "colab_type": "text"
      },
      "source": [
        "<a href=\"https://colab.research.google.com/github/HariPranav/100-days-of-code/blob/master/PROG7_practise.ipynb\" target=\"_parent\"><img src=\"https://colab.research.google.com/assets/colab-badge.svg\" alt=\"Open In Colab\"/></a>"
      ]
    },
    {
      "cell_type": "code",
      "metadata": {
        "id": "Vwr-MMyyCYtp"
      },
      "source": [
        "import pandas as pd"
      ],
      "execution_count": 1,
      "outputs": []
    },
    {
      "cell_type": "code",
      "metadata": {
        "id": "aHp_qhpNCbDy"
      },
      "source": [
        "import numpy as np\r\n"
      ],
      "execution_count": 2,
      "outputs": []
    },
    {
      "cell_type": "code",
      "metadata": {
        "colab": {
          "base_uri": "https://localhost:8080/"
        },
        "id": "vBvLlHwqCeQg",
        "outputId": "15e27989-f539-4868-e9cf-b66a12eb2011"
      },
      "source": [
        "pip install pgmpy"
      ],
      "execution_count": 3,
      "outputs": [
        {
          "output_type": "stream",
          "text": [
            "Collecting pgmpy\n",
            "\u001b[?25l  Downloading https://files.pythonhosted.org/packages/06/19/d508949e8ac7b32e639f15e854a5f5ed710a4118e4f6692bddaccc390d88/pgmpy-0.1.13-py3-none-any.whl (324kB)\n",
            "\r\u001b[K     |█                               | 10kB 16.4MB/s eta 0:00:01\r\u001b[K     |██                              | 20kB 11.5MB/s eta 0:00:01\r\u001b[K     |███                             | 30kB 6.6MB/s eta 0:00:01\r\u001b[K     |████                            | 40kB 5.0MB/s eta 0:00:01\r\u001b[K     |█████                           | 51kB 3.8MB/s eta 0:00:01\r\u001b[K     |██████                          | 61kB 4.5MB/s eta 0:00:01\r\u001b[K     |███████                         | 71kB 5.1MB/s eta 0:00:01\r\u001b[K     |████████                        | 81kB 5.2MB/s eta 0:00:01\r\u001b[K     |█████████                       | 92kB 5.4MB/s eta 0:00:01\r\u001b[K     |██████████                      | 102kB 4.2MB/s eta 0:00:01\r\u001b[K     |███████████                     | 112kB 4.2MB/s eta 0:00:01\r\u001b[K     |████████████▏                   | 122kB 4.2MB/s eta 0:00:01\r\u001b[K     |█████████████▏                  | 133kB 4.2MB/s eta 0:00:01\r\u001b[K     |██████████████▏                 | 143kB 4.2MB/s eta 0:00:01\r\u001b[K     |███████████████▏                | 153kB 4.2MB/s eta 0:00:01\r\u001b[K     |████████████████▏               | 163kB 4.2MB/s eta 0:00:01\r\u001b[K     |█████████████████▏              | 174kB 4.2MB/s eta 0:00:01\r\u001b[K     |██████████████████▏             | 184kB 4.2MB/s eta 0:00:01\r\u001b[K     |███████████████████▏            | 194kB 4.2MB/s eta 0:00:01\r\u001b[K     |████████████████████▏           | 204kB 4.2MB/s eta 0:00:01\r\u001b[K     |█████████████████████▏          | 215kB 4.2MB/s eta 0:00:01\r\u001b[K     |██████████████████████▏         | 225kB 4.2MB/s eta 0:00:01\r\u001b[K     |███████████████████████▎        | 235kB 4.2MB/s eta 0:00:01\r\u001b[K     |████████████████████████▎       | 245kB 4.2MB/s eta 0:00:01\r\u001b[K     |█████████████████████████▎      | 256kB 4.2MB/s eta 0:00:01\r\u001b[K     |██████████████████████████▎     | 266kB 4.2MB/s eta 0:00:01\r\u001b[K     |███████████████████████████▎    | 276kB 4.2MB/s eta 0:00:01\r\u001b[K     |████████████████████████████▎   | 286kB 4.2MB/s eta 0:00:01\r\u001b[K     |█████████████████████████████▎  | 296kB 4.2MB/s eta 0:00:01\r\u001b[K     |██████████████████████████████▎ | 307kB 4.2MB/s eta 0:00:01\r\u001b[K     |███████████████████████████████▎| 317kB 4.2MB/s eta 0:00:01\r\u001b[K     |████████████████████████████████| 327kB 4.2MB/s \n",
            "\u001b[?25hRequirement already satisfied: torch in /usr/local/lib/python3.6/dist-packages (from pgmpy) (1.7.0+cu101)\n",
            "Requirement already satisfied: pyparsing in /usr/local/lib/python3.6/dist-packages (from pgmpy) (2.4.7)\n",
            "Requirement already satisfied: scikit-learn in /usr/local/lib/python3.6/dist-packages (from pgmpy) (0.22.2.post1)\n",
            "Requirement already satisfied: numpy in /usr/local/lib/python3.6/dist-packages (from pgmpy) (1.19.5)\n",
            "Requirement already satisfied: networkx in /usr/local/lib/python3.6/dist-packages (from pgmpy) (2.5)\n",
            "Requirement already satisfied: scipy in /usr/local/lib/python3.6/dist-packages (from pgmpy) (1.4.1)\n",
            "Requirement already satisfied: tqdm in /usr/local/lib/python3.6/dist-packages (from pgmpy) (4.41.1)\n",
            "Requirement already satisfied: pandas in /usr/local/lib/python3.6/dist-packages (from pgmpy) (1.1.5)\n",
            "Requirement already satisfied: joblib in /usr/local/lib/python3.6/dist-packages (from pgmpy) (1.0.0)\n",
            "Requirement already satisfied: statsmodels in /usr/local/lib/python3.6/dist-packages (from pgmpy) (0.10.2)\n",
            "Requirement already satisfied: typing-extensions in /usr/local/lib/python3.6/dist-packages (from torch->pgmpy) (3.7.4.3)\n",
            "Requirement already satisfied: future in /usr/local/lib/python3.6/dist-packages (from torch->pgmpy) (0.16.0)\n",
            "Requirement already satisfied: dataclasses in /usr/local/lib/python3.6/dist-packages (from torch->pgmpy) (0.8)\n",
            "Requirement already satisfied: decorator>=4.3.0 in /usr/local/lib/python3.6/dist-packages (from networkx->pgmpy) (4.4.2)\n",
            "Requirement already satisfied: python-dateutil>=2.7.3 in /usr/local/lib/python3.6/dist-packages (from pandas->pgmpy) (2.8.1)\n",
            "Requirement already satisfied: pytz>=2017.2 in /usr/local/lib/python3.6/dist-packages (from pandas->pgmpy) (2018.9)\n",
            "Requirement already satisfied: patsy>=0.4.0 in /usr/local/lib/python3.6/dist-packages (from statsmodels->pgmpy) (0.5.1)\n",
            "Requirement already satisfied: six>=1.5 in /usr/local/lib/python3.6/dist-packages (from python-dateutil>=2.7.3->pandas->pgmpy) (1.15.0)\n",
            "Installing collected packages: pgmpy\n",
            "Successfully installed pgmpy-0.1.13\n"
          ],
          "name": "stdout"
        }
      ]
    },
    {
      "cell_type": "code",
      "metadata": {
        "id": "2S7rYI9NCgfy"
      },
      "source": [
        "import pgmpy"
      ],
      "execution_count": 4,
      "outputs": []
    },
    {
      "cell_type": "code",
      "metadata": {
        "id": "4ldi-bWJCjq4"
      },
      "source": [
        "from pgmpy.models import BayesianModel"
      ],
      "execution_count": 5,
      "outputs": []
    },
    {
      "cell_type": "code",
      "metadata": {
        "id": "tChY73m6CpFE"
      },
      "source": [
        "from pgmpy.estimators import MaximumLikelihoodEstimator"
      ],
      "execution_count": 6,
      "outputs": []
    },
    {
      "cell_type": "code",
      "metadata": {
        "id": "s6O2v_X2CtrU"
      },
      "source": [
        "from pgmpy.inference import VariableElimination"
      ],
      "execution_count": 7,
      "outputs": []
    },
    {
      "cell_type": "code",
      "metadata": {
        "id": "45crZ-viC1g9"
      },
      "source": [
        "#get the data from the data set\r\n",
        "d=pd.read_csv(\"/content/Prog7_heart disease.csv\")"
      ],
      "execution_count": 10,
      "outputs": []
    },
    {
      "cell_type": "code",
      "metadata": {
        "colab": {
          "base_uri": "https://localhost:8080/"
        },
        "id": "fABGwGPpC7a8",
        "outputId": "e8e9d13d-8965-41d8-a523-7f898528ce25"
      },
      "source": [
        "#convert the csv into a data frame\r\n",
        "data=pd.DataFrame(d)\r\n",
        "print(d)"
      ],
      "execution_count": 13,
      "outputs": [
        {
          "output_type": "stream",
          "text": [
            "    age  Gender  Family  diet  Lifestyle  cholestrol  heartdisease\n",
            "0     0       0       1     1          3           0             1\n",
            "1     0       1       1     1          3           0             1\n",
            "2     1       0       0     0          2           1             1\n",
            "3     4       0       1     1          3           2             0\n",
            "4     3       1       1     0          0           2             0\n",
            "5     2       0       1     1          1           0             1\n",
            "6     4       0       1     0          2           0             1\n",
            "7     0       0       1     1          3           0             1\n",
            "8     3       1       1     0          0           2             0\n",
            "9     1       1       0     0          0           2             1\n",
            "10    4       1       0     1          2           0             1\n",
            "11    4       0       1     1          3           2             0\n",
            "12    2       1       0     0          0           0             0\n",
            "13    2       0       1     1          1           0             1\n",
            "14    3       1       1     0          0           1             0\n",
            "15    0       0       1     0          0           2             1\n",
            "16    1       1       0     1          2           1             1\n",
            "17    3       1       1     1          0           1             0\n",
            "18    4       0       1     1          3           2             0\n"
          ],
          "name": "stdout"
        }
      ]
    },
    {
      "cell_type": "code",
      "metadata": {
        "colab": {
          "base_uri": "https://localhost:8080/"
        },
        "id": "LGdi42IMDSDS",
        "outputId": "fd9328f1-c03b-46f9-a6a8-bd0c70fe4b70"
      },
      "source": [
        "# use the bayesian model\r\n",
        "model=BayesianModel([\r\n",
        "('age','Lifestyle'),\r\n",
        "('Gender','Lifestyle'),\r\n",
        "('Family','heartdisease'),\r\n",
        "('diet','cholestrol'),\r\n",
        "('Lifestyle','diet'),\r\n",
        "('diet','cholestrol')\r\n",
        "])\r\n",
        "print(model)"
      ],
      "execution_count": 28,
      "outputs": [
        {
          "output_type": "stream",
          "text": [
            "\n"
          ],
          "name": "stdout"
        }
      ]
    },
    {
      "cell_type": "code",
      "metadata": {
        "colab": {
          "base_uri": "https://localhost:8080/"
        },
        "id": "BSs311L1E1za",
        "outputId": "afbbb626-712c-4c3a-e382-a80c43a6062f"
      },
      "source": [
        "# fit the model\r\n",
        "model.fit(data,estimator=MaximumLikelihoodEstimator)\r\n",
        "heardisease_infer=VariableElimination(model)"
      ],
      "execution_count": 33,
      "outputs": [
        {
          "output_type": "stream",
          "text": [
            "WARNING:root:Replacing existing CPD for Family\n",
            "WARNING:root:Replacing existing CPD for Gender\n",
            "WARNING:root:Replacing existing CPD for Lifestyle\n",
            "WARNING:root:Replacing existing CPD for age\n",
            "WARNING:root:Replacing existing CPD for cholestrol\n",
            "WARNING:root:Replacing existing CPD for diet\n",
            "WARNING:root:Replacing existing CPD for heartdisease\n"
          ],
          "name": "stderr"
        }
      ]
    },
    {
      "cell_type": "code",
      "metadata": {
        "colab": {
          "base_uri": "https://localhost:8080/"
        },
        "id": "yHn9_K0gE4vi",
        "outputId": "c053b5c6-2c34-4ac3-c3f9-b6d66af07579"
      },
      "source": [
        "print(\"for age enter 0:supersenior,1:senior, 2:middleage,3:youth,4:teen\")"
      ],
      "execution_count": 31,
      "outputs": [
        {
          "output_type": "stream",
          "text": [
            "for age enter 0:supersenior,1:senior, 2:middleage,3:youth,4:teen\n"
          ],
          "name": "stdout"
        }
      ]
    },
    {
      "cell_type": "code",
      "metadata": {
        "colab": {
          "base_uri": "https://localhost:8080/"
        },
        "id": "69a4lXNVM3T2",
        "outputId": "3dcca4bb-3b49-4fd9-9bf9-1dc9f6f1ae58"
      },
      "source": [
        "print(\"for gender enter M: Male, F:Female\")\r\n",
        "print(\"for diet enter 0:bad diet , 1:good diet\")\r\n",
        "print(\"for lifestyle enter 0:very bad 1:bad , 2:good ,3:very good\")\r\n",
        "print(\"for cholestrol enter 0:high 1:low\")\r\n",
        "print(\"for heartdisease enter 1:high risk 0:low risk\")"
      ],
      "execution_count": 32,
      "outputs": [
        {
          "output_type": "stream",
          "text": [
            "for gender enter M: Male, F:Female\n",
            "for diet enter 0:bad diet , 1:good diet\n",
            "for lifestyle enter 0:very bad 1:bad , 2:good ,3:very good\n",
            "for cholestrol enter 0:high 1:low\n",
            "for heartdisease enter 1:high risk 0:low risk\n"
          ],
          "name": "stdout"
        }
      ]
    },
    {
      "cell_type": "code",
      "metadata": {
        "colab": {
          "base_uri": "https://localhost:8080/"
        },
        "id": "_2xjpnE7Ncbq",
        "outputId": "6e5b8ffd-09ea-420f-e8fb-141972e9a9d3"
      },
      "source": [
        "q = heardisease_infer.query(variables=['heartdisease'], evidence={\r\n",
        " 'age':int(input('enter age')),\r\n",
        " 'Gender':int(input('enter Gender')),\r\n",
        " 'Family':int(input('enter Family history')),\r\n",
        " 'diet':int(input('enter diet')),\r\n",
        " 'Lifestyle':int(input('enter Lifestyle')),\r\n",
        " 'cholestrol':int(input('enter cholestrol'))\r\n",
        " })\r\n",
        "print(q)"
      ],
      "execution_count": 36,
      "outputs": [
        {
          "output_type": "stream",
          "text": [
            "enter age1\n",
            "enter Gender1\n",
            "enter Family history1\n",
            "enter diet1\n",
            "enter Lifestyle1\n",
            "enter cholestrol1\n"
          ],
          "name": "stdout"
        },
        {
          "output_type": "stream",
          "text": [
            "Finding Elimination Order: : : 0it [00:00, ?it/s]\n",
            "0it [00:00, ?it/s]"
          ],
          "name": "stderr"
        },
        {
          "output_type": "stream",
          "text": [
            "+-----------------+---------------------+\n",
            "| heartdisease    |   phi(heartdisease) |\n",
            "+=================+=====================+\n",
            "| heartdisease(0) |              0.5000 |\n",
            "+-----------------+---------------------+\n",
            "| heartdisease(1) |              0.5000 |\n",
            "+-----------------+---------------------+\n"
          ],
          "name": "stdout"
        },
        {
          "output_type": "stream",
          "text": [
            "\n"
          ],
          "name": "stderr"
        }
      ]
    },
    {
      "cell_type": "code",
      "metadata": {
        "id": "HfeL_PgBPGiS"
      },
      "source": [
        ""
      ],
      "execution_count": null,
      "outputs": []
    }
  ]
}